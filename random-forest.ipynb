{
 "cells": [
  {
   "cell_type": "code",
   "execution_count": 6,
   "metadata": {},
   "outputs": [],
   "source": [
    "import pandas as pd\n",
    "import numpy as np\n",
    "from sklearn.datasets import load_digits\n",
    "from sklearn.ensemble import RandomForestClassifier\n",
    "from sklearn.model_selection import train_test_split"
   ]
  },
  {
   "cell_type": "markdown",
   "metadata": {},
   "source": [
    "Carregando o dataset"
   ]
  },
  {
   "cell_type": "code",
   "execution_count": 8,
   "metadata": {},
   "outputs": [],
   "source": [
    "digits = load_digits()\n",
    "X      = digits.data\n",
    "Y      = digits.target\n",
    "\n",
    "X_train, X_test, Y_train, Y_test = train_test_split(X, Y)"
   ]
  },
  {
   "cell_type": "markdown",
   "metadata": {},
   "source": [
    "Instanciando o classificador"
   ]
  },
  {
   "cell_type": "code",
   "execution_count": 9,
   "metadata": {},
   "outputs": [],
   "source": [
    "random_forest_classifier = RandomForestClassifier()\n",
    "\n",
    "random_forest_classifier.fit(X_train, Y_train)\n",
    "\n",
    "predictions = random_forest_classifier.predict(X_test)"
   ]
  },
  {
   "cell_type": "code",
   "execution_count": 12,
   "metadata": {},
   "outputs": [
    {
     "name": "stdout",
     "output_type": "stream",
     "text": [
      "Accuracy score: 0.9777777777777777\n"
     ]
    }
   ],
   "source": [
    "from sklearn.metrics import accuracy_score\n",
    "\n",
    "print(f\"Accuracy score: {accuracy_score(Y_test, predictions)}\")"
   ]
  },
  {
   "cell_type": "code",
   "execution_count": 13,
   "metadata": {},
   "outputs": [
    {
     "data": {
      "text/plain": [
       "array([0.00000000e+00, 2.45267154e-03, 2.10339226e-02, 1.08959425e-02,\n",
       "       9.43047180e-03, 1.93769342e-02, 9.15700306e-03, 7.16064681e-04,\n",
       "       7.08733519e-05, 9.12916323e-03, 2.83341314e-02, 7.98511699e-03,\n",
       "       1.64442600e-02, 2.82479998e-02, 4.67548492e-03, 7.50722450e-04,\n",
       "       7.60513599e-05, 6.89658239e-03, 1.84772614e-02, 2.21464273e-02,\n",
       "       3.15938331e-02, 4.91139474e-02, 8.88156155e-03, 2.20622894e-04,\n",
       "       5.65735356e-05, 1.20584156e-02, 4.38385005e-02, 2.25241344e-02,\n",
       "       3.57639619e-02, 2.06583252e-02, 2.80045787e-02, 3.02271113e-05,\n",
       "       0.00000000e+00, 2.86372149e-02, 3.14199779e-02, 1.49652372e-02,\n",
       "       4.15370002e-02, 1.70530835e-02, 2.41948342e-02, 0.00000000e+00,\n",
       "       0.00000000e+00, 1.03890434e-02, 3.59445411e-02, 3.92837708e-02,\n",
       "       2.07859533e-02, 1.85616991e-02, 2.35506118e-02, 3.01756294e-05,\n",
       "       1.02863565e-04, 3.26839196e-03, 2.02183891e-02, 2.41971854e-02,\n",
       "       1.40486500e-02, 2.15980444e-02, 2.18376906e-02, 1.84573481e-03,\n",
       "       0.00000000e+00, 2.41550444e-03, 2.47276674e-02, 9.31729715e-03,\n",
       "       3.09870258e-02, 2.91280878e-02, 1.83545324e-02, 2.55802509e-03])"
      ]
     },
     "execution_count": 13,
     "metadata": {},
     "output_type": "execute_result"
    }
   ],
   "source": [
    "random_forest_classifier.feature_importances_"
   ]
  }
 ],
 "metadata": {
  "kernelspec": {
   "display_name": "Python 3.10.6 ('river')",
   "language": "python",
   "name": "python3"
  },
  "language_info": {
   "codemirror_mode": {
    "name": "ipython",
    "version": 3
   },
   "file_extension": ".py",
   "mimetype": "text/x-python",
   "name": "python",
   "nbconvert_exporter": "python",
   "pygments_lexer": "ipython3",
   "version": "3.10.6"
  },
  "orig_nbformat": 4,
  "vscode": {
   "interpreter": {
    "hash": "a50894cc15374160d0b9a7d62775d4a0a1443f5ded6bb8be1b8246f778cea902"
   }
  }
 },
 "nbformat": 4,
 "nbformat_minor": 2
}
